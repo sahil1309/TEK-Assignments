{
 "cells": [
  {
   "cell_type": "markdown",
   "id": "5e2afea6",
   "metadata": {},
   "source": [
    "## Question 1"
   ]
  },
  {
   "cell_type": "code",
   "execution_count": 10,
   "id": "a0184fe4",
   "metadata": {},
   "outputs": [
    {
     "name": "stdout",
     "output_type": "stream",
     "text": [
      "['file1.txt', 'file3.txt', 'file1.txt', 'file2.txt', 'file3.txt']\n"
     ]
    }
   ],
   "source": [
    "import hashlib\n",
    "import os\n",
    "path = \"D:/test_data\"\n",
    "hashes = []\n",
    "duplicate=[]\n",
    "for (dir_path, dir_names, file_names) in os.walk(path):\n",
    "    \n",
    "    for filename in file_names:\n",
    "        try:\n",
    "            filepath = os.path.join(dir_path, filename)\n",
    "            file = open(filepath, 'r')\n",
    "            content = file.read().encode()\n",
    "            file.close()\n",
    "            message = hashlib.sha256(content)\n",
    "            if message.hexdigest() not in hashes:\n",
    "                hashes.append(message.hexdigest())\n",
    "            else:\n",
    "                \n",
    "                duplicate.append(filename)\n",
    "                os.remove(filepath)\n",
    "        except Exception as e:\n",
    "            print(e)\n",
    "print(duplicate)"
   ]
  },
  {
   "cell_type": "markdown",
   "id": "c1b0c59e",
   "metadata": {},
   "source": [
    "## Question 2"
   ]
  },
  {
   "cell_type": "code",
   "execution_count": 11,
   "id": "130811fb",
   "metadata": {},
   "outputs": [
    {
     "name": "stdout",
     "output_type": "stream",
     "text": [
      "Here is your password: 2wa60J\n"
     ]
    }
   ],
   "source": [
    "import random\n",
    "import string\n",
    "password = []\n",
    "password.extend(random.choices(string.ascii_uppercase, k=1))\n",
    "password.extend(random.choices(string.ascii_lowercase, k=2))\n",
    "password.extend(random.choices('0123456789',k=3))\n",
    "strongpassword = \"\"\n",
    "random.shuffle(password)\n",
    "for i in range(6):\n",
    "    strongpassword += password[i]\n",
    "print(\"Here is your password:\", strongpassword)"
   ]
  },
  {
   "cell_type": "markdown",
   "id": "c7b6fc9b",
   "metadata": {},
   "source": [
    "## Question 3"
   ]
  },
  {
   "cell_type": "code",
   "execution_count": 48,
   "id": "1ec6f3a7",
   "metadata": {},
   "outputs": [
    {
     "name": "stdout",
     "output_type": "stream",
     "text": [
      "Input number of rows3\n",
      "Input number of columns3\n",
      "1\n",
      "2\n",
      "3\n",
      "4\n",
      "5\n",
      "6\n",
      "7\n",
      "8\n",
      "9\n"
     ]
    },
    {
     "data": {
      "text/plain": [
       "array([[  1.,   2.,  27.],\n",
       "       [ 64.,   5., 216.],\n",
       "       [  7., 512.,   9.]])"
      ]
     },
     "execution_count": 48,
     "metadata": {},
     "output_type": "execute_result"
    }
   ],
   "source": [
    "import numpy as np\n",
    "def Prime(n):\n",
    "    if(n<2):\n",
    "        return False\n",
    "    ctr=0\n",
    "    for i in range(2,n//2+1):\n",
    "        if(n<2):\n",
    "            return False\n",
    "        if(n%i==0):\n",
    "            ctr+=1\n",
    "    if(ctr==0 ):\n",
    "        return True\n",
    "    else:\n",
    "        return False\n",
    "r=int(input(\"Input number of rows\"))\n",
    "c=int(input(\"Input number of columns\"))\n",
    "req_arr=np.ones((r,c))\n",
    "for i in range(r):\n",
    "    for j in range(c):\n",
    "        req_arr[i][j]=int(input())\n",
    "x=0      \n",
    "for i in range(r):\n",
    "    for j in range(c):\n",
    "        \n",
    "        if(Prime(x)):\n",
    "            req_arr[i][j]=int(req_arr[i][j]**3)\n",
    "            x+=1\n",
    "        else:\n",
    "            x+=1\n",
    "req_arr"
   ]
  },
  {
   "cell_type": "markdown",
   "id": "c76c1f98",
   "metadata": {},
   "source": [
    "## Question 4"
   ]
  },
  {
   "cell_type": "code",
   "execution_count": 51,
   "id": "59133c7d",
   "metadata": {},
   "outputs": [
    {
     "name": "stdout",
     "output_type": "stream",
     "text": [
      "27.0\n",
      "64.0\n",
      "216.0\n",
      "512.0\n"
     ]
    },
    {
     "data": {
      "text/plain": [
       "array([[  1.,   2.,  29.],\n",
       "       [ 65.,   5., 218.],\n",
       "       [  7., 576.,   9.]])"
      ]
     },
     "execution_count": 51,
     "metadata": {},
     "output_type": "execute_result"
    }
   ],
   "source": [
    "new_arr=np.ones((r,c))\n",
    "x=0\n",
    "for i in range(r):\n",
    "    for j in range(c):\n",
    "        if(Prime(x)):\n",
    "            print(req_arr[i][j])\n",
    "            if(i-1<0):\n",
    "                new_arr[i][j]=req_arr[i][j-1]+req_arr[i][j]\n",
    "            elif(j-1<0):\n",
    "                new_arr[i][j]=req_arr[i-1][j]+req_arr[i][j]\n",
    "            else:\n",
    "                new_arr[i][j]=data[i-1][j-1]+data[i][j]\n",
    "            x+=1\n",
    "        else:\n",
    "            new_arr[i][j]=data[i][j]\n",
    "            x+=1\n",
    "new_arr"
   ]
  },
  {
   "cell_type": "markdown",
   "id": "bc13dd55",
   "metadata": {},
   "source": [
    "## Question 5"
   ]
  },
  {
   "cell_type": "code",
   "execution_count": 24,
   "id": "0b8f3e13",
   "metadata": {},
   "outputs": [
    {
     "name": "stdout",
     "output_type": "stream",
     "text": [
      "[2, 3, 5]\n"
     ]
    }
   ],
   "source": [
    "arr1=[1,2,3,4,5]\n",
    "arr2=[2,3,5,7]\n",
    "new_array=[]\n",
    "for i in arr1:\n",
    "    for j in arr2:\n",
    "        if(i==j):\n",
    "            new_array.append(i)\n",
    "print(new_array)"
   ]
  },
  {
   "cell_type": "markdown",
   "id": "9e642b49",
   "metadata": {},
   "source": [
    "## Question 6"
   ]
  },
  {
   "cell_type": "code",
   "execution_count": 17,
   "id": "74f8b24a",
   "metadata": {},
   "outputs": [],
   "source": [
    "import numpy as np\n",
    "\n",
    "input_array=np.ones((7,7))\n",
    "x=1\n",
    "for i in range(7):\n",
    "    for j in range(7):\n",
    "        input_array[i][j]=input_array[i][j]*x*7\n",
    "        x+=1\n",
    "    "
   ]
  },
  {
   "cell_type": "code",
   "execution_count": 18,
   "id": "6cdfc539",
   "metadata": {},
   "outputs": [
    {
     "data": {
      "text/plain": [
       "array([[  7.,  14.,  21.,  28.,  35.,  42.,  49.],\n",
       "       [ 56.,  63.,  70.,  77.,  84.,  91.,  98.],\n",
       "       [105., 112., 119., 126., 133., 140., 147.],\n",
       "       [154., 161., 168., 175., 182., 189., 196.],\n",
       "       [203., 210., 217., 224., 231., 238., 245.],\n",
       "       [252., 259., 266., 273., 280., 287., 294.],\n",
       "       [301., 308., 315., 322., 329., 336., 343.]])"
      ]
     },
     "execution_count": 18,
     "metadata": {},
     "output_type": "execute_result"
    }
   ],
   "source": [
    "input_array"
   ]
  },
  {
   "cell_type": "markdown",
   "id": "994d4957",
   "metadata": {
    "scrolled": true
   },
   "source": [
    "## Question 7"
   ]
  },
  {
   "cell_type": "code",
   "execution_count": 53,
   "id": "ea00dbf8",
   "metadata": {},
   "outputs": [
    {
     "data": {
      "text/plain": [
       "array([[1, 0, 1, 0, 1, 0, 1, 0, 1, 0],\n",
       "       [0, 1, 0, 1, 0, 1, 0, 1, 0, 1],\n",
       "       [1, 0, 1, 0, 1, 0, 1, 0, 1, 0],\n",
       "       [0, 1, 0, 1, 0, 1, 0, 1, 0, 1],\n",
       "       [1, 0, 1, 0, 1, 0, 1, 0, 1, 0],\n",
       "       [0, 1, 0, 1, 0, 1, 0, 1, 0, 1],\n",
       "       [1, 0, 1, 0, 1, 0, 1, 0, 1, 0],\n",
       "       [0, 1, 0, 1, 0, 1, 0, 1, 0, 1],\n",
       "       [1, 0, 1, 0, 1, 0, 1, 0, 1, 0],\n",
       "       [0, 1, 0, 1, 0, 1, 0, 1, 0, 1]], dtype=int8)"
      ]
     },
     "execution_count": 53,
     "metadata": {},
     "output_type": "execute_result"
    }
   ],
   "source": [
    "arr3=np.ones((10,10),dtype='int8')\n",
    "arr3[1::2,::2]=0\n",
    "arr3[0::2,1::2]=0\n",
    "arr3"
   ]
  },
  {
   "cell_type": "markdown",
   "id": "5dab01e1",
   "metadata": {},
   "source": [
    "## Question 8"
   ]
  },
  {
   "cell_type": "code",
   "execution_count": 57,
   "id": "8e959008",
   "metadata": {},
   "outputs": [
    {
     "name": "stdout",
     "output_type": "stream",
     "text": [
      "['nan' 'B' 'C' 'D' 'nan' 'F' 'G' 'H' 'nan' 'nan' 'K' 'L' 'M' 'N' 'nan' 'P'\n",
      " 'Q' 'R' 'S' 'T' 'nan' '0' 'W' 'nan']\n",
      "7\n"
     ]
    }
   ],
   "source": [
    "arr_1 = ['A','B','C','D','E','F','G','H','I','a','K','L','M','N','o','P','Q','R','S','T','U','0','W','O']\n",
    "\n",
    "ct=0\n",
    "for i in range(0, len(arr_1)):\n",
    "    if arr_1[i].lower() in 'aeiou':\n",
    "        arr_1[i] = np.nan\n",
    "        ct+=1\n",
    "arr_1 = np.array(arr_1)\n",
    "print(arr_1)\n",
    "print(ct)\n"
   ]
  },
  {
   "cell_type": "code",
   "execution_count": null,
   "id": "bcfd3cd7",
   "metadata": {},
   "outputs": [],
   "source": []
  }
 ],
 "metadata": {
  "kernelspec": {
   "display_name": "Python 3 (ipykernel)",
   "language": "python",
   "name": "python3"
  },
  "language_info": {
   "codemirror_mode": {
    "name": "ipython",
    "version": 3
   },
   "file_extension": ".py",
   "mimetype": "text/x-python",
   "name": "python",
   "nbconvert_exporter": "python",
   "pygments_lexer": "ipython3",
   "version": "3.9.13"
  }
 },
 "nbformat": 4,
 "nbformat_minor": 5
}
